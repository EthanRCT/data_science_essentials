{
 "cells": [
  {
   "attachments": {},
   "cell_type": "markdown",
   "metadata": {
    "colab_type": "text",
    "id": "bW431NWpWQvg"
   },
   "source": [
    "# Pandas 3\n",
    "    Ethan Crawford\n",
    "    Math 403\n",
    "    9/19/23"
   ]
  },
  {
   "cell_type": "code",
   "execution_count": 19,
   "metadata": {
    "colab": {},
    "colab_type": "code",
    "id": "SUIQR8wua0n-"
   },
   "outputs": [],
   "source": [
    "import pandas as pd\n",
    "import numpy as np\n",
    "import matplotlib.pyplot as plt"
   ]
  },
  {
   "attachments": {},
   "cell_type": "markdown",
   "metadata": {
    "colab_type": "text",
    "id": "WtvM7fKitmn0"
   },
   "source": [
    "# Problem 1"
   ]
  },
  {
   "cell_type": "code",
   "execution_count": 57,
   "metadata": {
    "colab": {},
    "colab_type": "code",
    "id": "UnY5vviOBe8s"
   },
   "outputs": [
    {
     "data": {
      "text/plain": [
       "(count    212.000000\n",
       " mean      17.139151\n",
       " std        3.418049\n",
       " min        6.700000\n",
       " 25%       15.100000\n",
       " 50%       17.250000\n",
       " 75%       19.325000\n",
       " max       28.800000\n",
       " Name: S.F.Ratio, dtype: float64,\n",
       " count    565.000000\n",
       " mean      29.330973\n",
       " std       17.851391\n",
       " min        1.000000\n",
       " 25%       17.000000\n",
       " 50%       25.000000\n",
       " 75%       36.000000\n",
       " max       96.000000\n",
       " Name: Top10perc, dtype: float64,\n",
       " count    565.000000\n",
       " mean      56.957522\n",
       " std       19.588360\n",
       " min        9.000000\n",
       " 25%       42.000000\n",
       " 50%       55.000000\n",
       " 75%       70.000000\n",
       " max      100.000000\n",
       " Name: Top25perc, dtype: float64)"
      ]
     },
     "execution_count": 57,
     "metadata": {},
     "output_type": "execute_result"
    }
   ],
   "source": [
    "def prob1():\n",
    "    \"\"\"\n",
    "    Use a groupby object to determine information about private\n",
    "    and public universities.\n",
    "    Specifically examine the columns 'S.F.Ratio', 'Top10perc',\n",
    "    and 'Top25perc'.\n",
    "    \n",
    "    Return:\n",
    "        ans_1 (ndarray): describe array of universities with \n",
    "                         higher S.F.Ratio\n",
    "        ans_2 (ndarray): describe array of universities with\n",
    "                         more students from Top10perc\n",
    "        ans_3 (ndarray): describe array of universities with\n",
    "                         more students from Top25perc\n",
    "    \"\"\"\n",
    "    # Read in the college data and group by 'Private'\n",
    "    college_group = pd.read_csv(\"college.csv\", header=0, index_col=0).groupby(['Private'])\n",
    "\n",
    "    # Get the describe arrays for 'S.F.Ratio', 'Top10perc', and 'Top25perc'\n",
    "    public_describe = college_group.get_group('No').describe()[['S.F.Ratio', 'Top10perc', 'Top25perc']]\n",
    "    private_describe = college_group.get_group('Yes').describe()[['S.F.Ratio', 'Top10perc', 'Top25perc']]\n",
    "    \n",
    "    # Label the describe arrays\n",
    "    public_sfratio = public_describe['S.F.Ratio']\n",
    "    public_top10perc = public_describe['Top10perc']\n",
    "    public_top25perc = public_describe['Top25perc']\n",
    "\n",
    "    private_sfratio = private_describe['S.F.Ratio']\n",
    "    private_top10perc = private_describe['Top10perc']\n",
    "    private_top25perc = private_describe['Top25perc']\n",
    "\n",
    "    # Get the answers\n",
    "    ans_1 = public_sfratio if public_sfratio['mean'] > private_sfratio['mean'] else private_sfratio\n",
    "    ans_2 = public_top10perc if public_top10perc['mean'] > private_top10perc['mean'] else private_top10perc\n",
    "    ans_3 = public_top25perc if public_top25perc['mean'] > private_top25perc['mean'] else private_top25perc\n",
    "\n",
    "    return ans_1, ans_2, ans_3\n",
    "prob1()"
   ]
  },
  {
   "attachments": {},
   "cell_type": "markdown",
   "metadata": {
    "colab_type": "text",
    "id": "kkl-OwD3tosX"
   },
   "source": [
    "# Problem 2"
   ]
  },
  {
   "cell_type": "code",
   "execution_count": 58,
   "metadata": {
    "colab": {},
    "colab_type": "code",
    "id": "21bBA9dzCNxc"
   },
   "outputs": [
    {
     "data": {
      "image/png": "[encoded data removed]",
      "text/plain": [
       "<Figure size 432x288 with 1 Axes>"
      ]
     },
     "metadata": {
      "needs_background": "light"
     },
     "output_type": "display_data"
    },
    {
     "data": {
      "image/png": "[encoded data removed]",
      "text/plain": [
       "<Figure size 432x288 with 2 Axes>"
      ]
     },
     "metadata": {
      "needs_background": "light"
     },
     "output_type": "display_data"
    }
   ],
   "source": [
    "def prob2():\n",
    "    \"\"\"\n",
    "    Use groupby visualizations to compare the following\n",
    "    in private and public universities:\n",
    "        1. Number of applicants, accept applicants, and\n",
    "           enrolled applicants\n",
    "        2. Range of price for room and board\n",
    "    \"\"\"\n",
    "    # Read in the college data and group by 'Private'\n",
    "    college_group = pd.read_csv(\"college.csv\", header=0, index_col=0).groupby(['Private'])\n",
    "\n",
    "    # Get the number of applicants, accept applicants, and enrolled applicants\n",
    "    college_group[['Apps', 'Accept', 'Enroll']].sum().plot.bar()\n",
    "    plt.title(\"Number of Applicants, Accepted Applicants, and Enrolled Applicants\")\n",
    "    plt.ylabel(\"Number of Applicants\")\n",
    "    plt.tight_layout()\n",
    "\n",
    "    # Get the range of price for room and board\n",
    "    college_group[['Room.Board']].boxplot(sharey=False)\n",
    "    plt.ylabel(\"$\")\n",
    "    plt.suptitle(\"Range of Price for Room and Board\")\n",
    "    plt.tight_layout()\n",
    "prob2()"
   ]
  },
  {
   "attachments": {},
   "cell_type": "markdown",
   "metadata": {
    "colab_type": "text",
    "id": "XQJj5O7btqQW"
   },
   "source": [
    "# Problem 3"
   ]
  },
  {
   "cell_type": "code",
   "execution_count": 56,
   "metadata": {
    "colab": {},
    "colab_type": "code",
    "id": "Qs3BS0NKRgo1"
   },
   "outputs": [
    {
     "data": {
      "text/plain": [
       "((1, 1), (3, 2), (3, 1))"
      ]
     },
     "execution_count": 56,
     "metadata": {},
     "output_type": "execute_result"
    }
   ],
   "source": [
    "def prob3():\n",
    "    \"\"\"\n",
    "    Use Ohio_1999.csv and pivot tables to answer the\n",
    "    following questions\n",
    "        1. Which race/sex combination has the highest Usual Weekly \n",
    "            Earnings in total?\n",
    "        2. Which race/sex combination worked the least amount of \n",
    "            cumulative hours?\n",
    "        3. What race/sex combination worked the most hours per week \n",
    "            per person?\n",
    "    Note: Hard coding is okay as long as there is code that makes sense for each problem.\n",
    "    \n",
    "    Returns:\n",
    "        ans_1 (tuple): tuple with race and sex code, respectively\n",
    "        ans_2 (tuple): tuple with race and sex code, respectively\n",
    "        ans_3 (tuple): tuple with race and sex code, respectively\n",
    "    \"\"\"\n",
    "    # Read in the data\n",
    "    ohio = pd.read_csv(\"Ohio_1999.csv\")\n",
    "\n",
    "    # Create a pivot table for the first question\n",
    "    ans_1_table = ohio.pivot_table(values=\"Usual Hours Worked\", index=\"Race\", columns=\"Sex\", aggfunc='max')\n",
    "    ans_1 = tuple(ans_1_table.stack().idxmax())\n",
    "\n",
    "    # Create a pivot table for the second question\n",
    "    ans_2_table = ohio.pivot_table(values=\"Usual Hours Worked\", index=\"Race\", columns=\"Sex\", aggfunc='sum')\n",
    "    ans_2 = tuple(ans_2_table.stack().idxmin())\n",
    "\n",
    "    # Create a pivot table for the third question\n",
    "    ans_3_table = ohio.pivot_table(values=\"Usual Hours Worked\", index=\"Race\", columns=\"Sex\", aggfunc='mean')\n",
    "    ans_3 = tuple(ans_3_table.stack().idxmax())\n",
    "\n",
    "    return ans_1, ans_2, ans_3\n",
    "\n",
    "prob3()"
   ]
  },
  {
   "attachments": {},
   "cell_type": "markdown",
   "metadata": {
    "colab_type": "text",
    "id": "w0OmwW_VtsAp"
   },
   "source": [
    "# Problem 4"
   ]
  },
  {
   "cell_type": "code",
   "execution_count": 113,
   "metadata": {
    "colab": {},
    "colab_type": "code",
    "id": "in76s4x5iAX9"
   },
   "outputs": [
    {
     "data": {
      "text/plain": [
       "(Interval(39, 43, closed='right'),\n",
       " Interval(40.0, 46.0, closed='right'),\n",
       " (Interval(15.999, 29.0, closed='right'), Interval(0, 39, closed='right')))"
      ]
     },
     "execution_count": 113,
     "metadata": {},
     "output_type": "execute_result"
    }
   ],
   "source": [
    "def prob4():\n",
    "    \"\"\"\n",
    "    Use Ohio_1999.csv to answer the following questions:\n",
    "        1. What is the most common degree among workers?\n",
    "        2. Which age group works the most hours on average?\n",
    "        3. What age/degree combination has the smallest yearly\n",
    "           salary on average?\n",
    "    \n",
    "    Return:\n",
    "        ans_1 (Interval): degree interval\n",
    "        ans_2 (Interval): age interval\n",
    "        ans_3 (Interval, Interval): age interval and degree interval\n",
    "    \"\"\"\n",
    "    # Read in the data\n",
    "    ohio = pd.read_csv(\"Ohio_1999.csv\")\n",
    "\n",
    "    # Partition the data into intervals and find the greatest group of education level\n",
    "    edu_bins = pd.cut(ohio['Educational Attainment'], [0,39,43,ohio['Educational Attainment'].max()]).describe()\n",
    "    ans_1 = edu_bins['top']\n",
    "\n",
    "    # Partition the Age column into 6 equally-sized groups using pd.qcut(). Which interval\n",
    "    # has the highest average Usual Hours Worked?\n",
    "    ans_2_table = pd.concat([pd.DataFrame(pd.qcut(ohio['Age'], 6)),\n",
    "                              ohio['Usual Hours Worked']], axis=1)\n",
    "    ans_2 = ans_2_table.groupby('Age').mean().idxmax()['Usual Hours Worked']\n",
    "    \n",
    "    # Using the partitions from the first two parts, what age/degree combination has the lowest\n",
    "    # yearly salary on average?\n",
    "    ans_3_table = pd.concat([\n",
    "                             ohio, \n",
    "                             pd.DataFrame(pd.qcut(ohio['Age'], 6), columns=['Age']).rename(columns={'Age':'Age Group'}), \n",
    "                             pd.DataFrame(pd.cut(ohio['Educational Attainment'], [0,39,43,ohio['Educational Attainment'].max()]), columns=['Educational Attainment']).rename(columns={'Educational Attainment':'Educational Attainment Group'})\n",
    "                            ],axis=1)\n",
    "   \n",
    "    ans_3_piv_table = ans_3_table.pivot_table(values=\"Yearly Salary\", index='Age Group', columns=\"Educational Attainment Group\", aggfunc='mean')\n",
    "    ans_3 = tuple(ans_3_piv_table.stack().idxmin())\n",
    "\n",
    "    return ans_1, ans_2, ans_3\n",
    "\n",
    "prob4()\n"
   ]
  },
  {
   "attachments": {},
   "cell_type": "markdown",
   "metadata": {
    "colab_type": "text",
    "id": "p_583lcgtuQv"
   },
   "source": [
    "# Problem 5"
   ]
  },
  {
   "cell_type": "code",
   "execution_count": 115,
   "metadata": {
    "colab": {},
    "colab_type": "code",
    "id": "I8vUMUB4fjHR"
   },
   "outputs": [
    {
     "data": {
      "text/plain": [
       "(True,\n",
       " False,\n",
       " True,\n",
       " 'Private Colleges with low acceptance rates have more top10perc students applying, and thus can choose more of them.')"
      ]
     },
     "execution_count": 115,
     "metadata": {},
     "output_type": "execute_result"
    }
   ],
   "source": [
    "def prob5():\n",
    "   \"\"\"\n",
    "   Use College.csv to answer the following questions:\n",
    "      1. Is there a partition in which the number of both \n",
    "         private and public universities does not increase \n",
    "         as the percentage of alumni that donates increases?\n",
    "      2. Is the partition with the greatest number of schools \n",
    "         the same for private and public universities?\n",
    "      3. Is it true that the partition that has the least \n",
    "         number of students from the top 10 percent of their \n",
    "         high school class that were admitted on average is \n",
    "         the same for both private and public universities?\n",
    "      4. The average percentage of students admitted from the \n",
    "         top 10 percent of their high school class is very high\n",
    "         in private universities with very low acceptance rates. \n",
    "         Why is this not a good conclusion to draw solely from \n",
    "         this dataset? Use only the data to explain why; do not \n",
    "         extrapolate.\n",
    "\n",
    "   Returns:\n",
    "      ans_1 (bool): answer to question 1\n",
    "      ans_2 (bool): answer to question 2\n",
    "      ans_3 (bool): answer to question 3\n",
    "      ans_4 (str): answer to question 4\n",
    "   \"\"\"\n",
    "   cut_points = [0, 20, 40, 60, 80, 100]\n",
    "   # Read in data    \n",
    "   college = pd.read_csv(\"college.csv\")    \n",
    "   college[\"Acceptance Rate\"] = college[\"Accept\"] / college[\"Apps\"]     \n",
    "   # Question 1. Partition perc.alumni into evenly spaced intervals    \n",
    "   # of 20%. Is there a partition in which the number of both private \n",
    "   # and public universities does not increase as the percentage of \n",
    "   # alumni that donates increases?    \n",
    "   college['alumni_donate'] = pd.cut(college['perc.alumni'], cut_points)    \n",
    "   alumni_group = college.groupby(['alumni_donate', 'Private'])    \n",
    "   \n",
    "   ans_1 = True     \n",
    "   \n",
    "   # Question 2. Is the graduation rate partition the same between \n",
    "   # private and public schools?    \n",
    "   priv_type = college.groupby('Private')    \n",
    "   private, public = priv_type.get_group('No'), priv_type.get_group('Yes')    \n",
    "   grad_priv = pd.cut(private[\"Grad.Rate\"], cut_points)    \n",
    "   grad_pub = pd.cut(public[\"Grad.Rate\"], cut_points)   \n",
    "   ans_2 = grad_priv.value_counts().idxmax() == grad_pub.value_counts().idxmax()\n",
    "\n",
    "   # Question 3. Is there inverse correlation between acceptance rate and having students from top 10% of their class?\n",
    "   college[\"Acceptance Rate\"] = college[\"Accept\"] / college[\"Apps\"]\n",
    "   college['Accpt Partition'] = pd.cut(college[\"Acceptance Rate\"], [0, 0.25, 0.50, 0.75, 1.0])\n",
    "   grouped = college.pivot_table(values='Top10perc', columns='Private', index='Accpt Partition', aggfunc='mean')\n",
    "   ans_3 = True\n",
    "\n",
    "   # Question 4. Why is the average percentage of students admitted from top10 so high in private unis with very low acceptance rates.\n",
    "   accept_rate = pd.qcut(college[\"Acceptance Rate\"], 4)\n",
    "   q4_pt = college.pivot_table(values=\"Top10perc\", index=\"Private\", columns=[accept_rate], aggfunc=\"count\")\n",
    "\n",
    "   ans_4 = \"Private Colleges with low acceptance rates have more top10perc students applying, and thus can choose more of them.\"\n",
    "\n",
    "   return ans_1, ans_2, ans_3, ans_4\n",
    "\n",
    "prob5()\n",
    "\n",
    "\n"
   ]
  },
  {
   "cell_type": "code",
   "execution_count": null,
   "metadata": {},
   "outputs": [],
   "source": []
  }
 ],
 "metadata": {
  "colab": {
   "collapsed_sections": [],
   "name": "pandas3.ipynb",
   "provenance": [],
   "version": "0.3.2"
  },
  "kernelspec": {
   "display_name": "Python 3 (ipykernel)",
   "language": "python",
   "name": "python3"
  },
  "language_info": {
   "codemirror_mode": {
    "name": "ipython",
    "version": 3
   },
   "file_extension": ".py",
   "mimetype": "text/x-python",
   "name": "python",
   "nbconvert_exporter": "python",
   "pygments_lexer": "ipython3",
   "version": "3.10.12"
  }
 },
 "nbformat": 4,
 "nbformat_minor": 1
}
