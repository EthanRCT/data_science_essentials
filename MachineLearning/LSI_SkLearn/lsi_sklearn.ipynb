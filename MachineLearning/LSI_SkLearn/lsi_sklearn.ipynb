{
 "cells": [
  {
   "cell_type": "markdown",
   "metadata": {},
   "source": [
    "# LSI and Scikit-Learn\n",
    "    Ethan Crawford\n",
    "    MAth 403\n",
    "    10/17/23"
   ]
  },
  {
   "cell_type": "code",
   "execution_count": 1,
   "metadata": {},
   "outputs": [],
   "source": [
    "import os\n",
    "import string\n",
    "import numpy as np\n",
    "import sklearn\n",
    "from scipy import sparse\n",
    "from sklearn import datasets\n",
    "from scipy import linalg as la\n",
    "from collections import Counter\n",
    "from matplotlib import pyplot as plt\n",
    "from scipy.sparse import linalg as spla\n",
    "from sklearn.pipeline import Pipeline\n",
    "from sklearn.decomposition import TruncatedSVD\n",
    "from sklearn.model_selection import GridSearchCV\n",
    "from sklearn.ensemble import RandomForestClassifier\n",
    "from sklearn.neighbors import KNeighborsClassifier\n",
    "from sklearn.preprocessing import StandardScaler\n",
    "from sklearn.decomposition import PCA\n",
    "from pprint import pprint\n",
    "\n",
    "from sklearn.model_selection import train_test_split\n",
    "from sklearn.metrics import classification_report\n",
    "from sklearn.metrics import confusion_matrix"
   ]
  },
  {
   "cell_type": "markdown",
   "metadata": {},
   "source": [
    "## Problem 1\n",
    "- Perform PCA on the breast cancer dataset\n",
    "- Graph the first two principal components\n",
    "- Calculate the variance captured by the first two principal components"
   ]
  },
  {
   "cell_type": "code",
   "execution_count": 4,
   "metadata": {},
   "outputs": [
    {
     "name": "stdout",
     "output_type": "stream",
     "text": [
      "(569, 2)\n"
     ]
    },
    {
     "data": {
      "image/png": "[encoded data removed]",
      "text/plain": [
       "<Figure size 720x360 with 1 Axes>"
      ]
     },
     "metadata": {
      "needs_background": "light"
     },
     "output_type": "display_data"
    }
   ],
   "source": [
    "def prob1():\n",
    "    \"\"\"Recreate the plot in Figure 1 by performing PCA on the breast \n",
    "    cancer dataset. Translate the columns of X to have mean 0.\n",
    "    Include the amount of variance captured by the first two principal \n",
    "    components in the graph title.\"\"\"\n",
    "    # Import data\n",
    "    cancer = datasets.load_breast_cancer()\n",
    "    X = cancer.data\n",
    "    y = cancer.target\n",
    "    \n",
    "    # Translate the columns of X to have mean 0\n",
    "    Y = X-np.mean(X, axis=0)\n",
    "\n",
    "    # Compute truncated SVD\n",
    "    U,E,Vh = la.svd(Y)\n",
    "    X_hat = X@Vh.T[:,:2]\n",
    "\n",
    "    # Plot\n",
    "    plt.figure(figsize=(10,5))\n",
    "    for data, name in zip([X_hat[y == 0], X_hat[y == 1]], [\"Malignant\", \"Benign\"]):\n",
    "        plt.scatter(data[:,0], data[:,1], label=name, alpha=0.5, s = 15)\n",
    "\n",
    "    plt.xlabel(\"First Principle Component\")\n",
    "    plt.ylabel(\"Second Principle Component\")\n",
    "    plt.title(f'Breast Cancer PCA, Variance = {round(sum(((E**2)/np.sum(E**2))[:2]), 4)}')\n",
    "    plt.legend()\n",
    "    plt.show()\n",
    "\n",
    "prob1()"
   ]
  },
  {
   "cell_type": "markdown",
   "metadata": {},
   "source": [
    "## Problem 2\n",
    "Implement the function similar()"
   ]
  },
  {
   "cell_type": "code",
   "execution_count": 136,
   "metadata": {},
   "outputs": [],
   "source": [
    "def similar(i, Xhat):\n",
    "    \"\"\"\n",
    "    Takes an index and matrix representing the principal components \n",
    "    of a document and returns two indices: the index of the document \n",
    "    that is least similar and the index of the document that is most \n",
    "    similar to i.\n",
    "    \n",
    "    Parameters:\n",
    "        i: index of a document\n",
    "        Xhat: decomposed data\n",
    "    \n",
    "    Returns:\n",
    "        index_min: index of the document least similar to document i\n",
    "        index_max: index of the document most similar to document i\n",
    "    \"\"\"\n",
    "    # Calculate the similarity values for all rows in Xhat\n",
    "    similarities = np.dot(Xhat[i], Xhat.T)/(la.norm(Xhat[i])* la.norm(Xhat, axis=1))\n",
    "\n",
    "    # Argsort the array to get the most similar and least similar\n",
    "    similarities_sorted = np.argsort(similarities)\n",
    "\n",
    "    # Return the most similar (other than itself) and least similar\n",
    "    return similarities_sorted[0], similarities_sorted[-2]"
   ]
  },
  {
   "cell_type": "code",
   "execution_count": 137,
   "metadata": {},
   "outputs": [
    {
     "name": "stdout",
     "output_type": "stream",
     "text": [
      "(7, 3)\n"
     ]
    }
   ],
   "source": [
    "# Test case\n",
    "X = np.array([\n",
    "    [0.78, 0.14, 0.12, 0.  ],\n",
    "    [0.64, 0.97, 0.  , 0.  ],\n",
    "    [0.  , 0.  , 0.63, 0.46],\n",
    "    [0.  , 0.84, 0.6 , 0.  ],\n",
    "    [0.29, 0.89, 0.51, 0.  ],\n",
    "    [0.77, 0.  , 0.27, 0.2 ],\n",
    "    [0.86, 0.47, 0.  , 0.06],\n",
    "    [0.89, 0.  , 0.  , 0.  ]\n",
    "]) \n",
    "print(similar(4, X))"
   ]
  },
  {
   "cell_type": "markdown",
   "metadata": {},
   "source": [
    "### Function for Problem 3"
   ]
  },
  {
   "cell_type": "code",
   "execution_count": 138,
   "metadata": {},
   "outputs": [],
   "source": [
    "def document_converter():\n",
    "    \"\"\"\n",
    "    Converts speech documents into an n by m array where m is the number \n",
    "    of vocabulary words and n is the number of documents.\n",
    "    \n",
    "    Returns:\n",
    "        X ((n x m) sparse matrix): Each row represents a document\n",
    "        paths (list): list where each element is a speech path \n",
    "            eg: path[0] is './Addresses/1990-Bush.txt'\n",
    "    \"\"\"\n",
    "    # Get list of filepaths to each text file in the folder.\n",
    "    folder = \"./Addresses/\"\n",
    "    paths = sorted([folder+p for p in os.listdir(folder) if p.endswith(\".txt\")])\n",
    "\n",
    "    # Helper function to get list of words in a string.\n",
    "    def extractWords(text):\n",
    "        ignore = string.punctuation + string.digits\n",
    "        cleaned = \"\".join([t for t in text.strip() if t not in ignore])\n",
    "        return cleaned.lower().split()\n",
    "\n",
    "    # Initialize vocab set, then read each file and add to the vocab set.\n",
    "    vocab = set()\n",
    "    for p in paths:\n",
    "        with open(p, 'r', encoding=\"utf8\") as infile:\n",
    "            for line in infile:\n",
    "                vocab.update(extractWords(line)) # Union sets together\n",
    "\n",
    "    # Load stopwords\n",
    "    with open(\"stopwords.txt\", 'r',  encoding=\"utf8\") as f:\n",
    "        stops = set([w.strip().lower() for w in f.readlines()])\n",
    "\n",
    "    # Remove stopwords from vocabulary, create ordering\n",
    "    vocab = {w:i for i, w in enumerate(vocab.difference(stops))}\n",
    "\n",
    "    counts = []      # holds the entries of X\n",
    "    doc_index = []   # holds the row index of X\n",
    "    word_index = []  # holds the column index of X\n",
    "\n",
    "    # Iterate through the documents\n",
    "    for doc, p in enumerate(paths):\n",
    "        with open(p, 'r', encoding=\"utf8\") as f:\n",
    "            # Create the word counter.\n",
    "            ctr = Counter()\n",
    "            for line in f:\n",
    "                ctr.update(extractWords(line))\n",
    "            # Iterate through the word counter, storing counts.\n",
    "            for word, count in ctr.items():\n",
    "                if word in vocab:\n",
    "                    word_index.append(vocab[word])\n",
    "                    counts.append(count)\n",
    "                    doc_index.append(doc)\n",
    "              \n",
    "    # Create sparse matrix holding these word counts.\n",
    "    X = sparse.csr_array((counts, [doc_index, word_index]),\n",
    "                           shape=(len(paths), len(vocab)), dtype=float)\n",
    "    return X, paths"
   ]
  },
  {
   "cell_type": "markdown",
   "metadata": {},
   "source": [
    "## Problem 3\n",
    "Use the function above and PCA to find speeches most and least similar to a given speech."
   ]
  },
  {
   "cell_type": "code",
   "execution_count": 141,
   "metadata": {},
   "outputs": [],
   "source": [
    "def prob3(speech, l=7):\n",
    "    \"\"\"\n",
    "    Uses LSI, applied to the word count matrix X, with the first 7 \n",
    "    principal components to find the most similar and least similar \n",
    "    speeches.\n",
    "\n",
    "    Parameters:\n",
    "        speech (str): Path to speech eg: \"./Addresses/1984-Reagan.txt\"\n",
    "        l (int): Number of principal components\n",
    "\n",
    "    Returns:\n",
    "        tuple of str: (Most similar speech, least similar speech)\n",
    "    \"\"\"    \n",
    "    # Get the word count matrix X and the list of speech paths\n",
    "    X, paths = document_converter()\n",
    "\n",
    "    # Compute truncated SVD\n",
    "    U, E, Vh = spla.svds(X, l, random_state=28)\n",
    "    Xhat = X @ Vh.T[:,:l]\n",
    "\n",
    "    # Get the index of the speech\n",
    "    speech_index = paths.index(speech)\n",
    "\n",
    "    # Get the index of the most similar and least similar speeches\n",
    "    index_min, index_max = similar(speech_index, Xhat)\n",
    "\n",
    "    # Return the most similar and least similar speeches\n",
    "    return paths[index_max][12:-4], paths[index_min][12:-4]"
   ]
  },
  {
   "cell_type": "code",
   "execution_count": 142,
   "metadata": {},
   "outputs": [
    {
     "name": "stdout",
     "output_type": "stream",
     "text": [
      "('1988-Reagan', '1946-Truman')\n",
      "('2010-Obama', '1951-Truman')\n"
     ]
    }
   ],
   "source": [
    "# Run this box once you have written prob3()\n",
    "speech = './Addresses/1984-Reagan.txt'\n",
    "print(prob3(speech))\n",
    "\n",
    "speech = \"./Addresses/1993-Clinton.txt\"\n",
    "print(prob3(speech))"
   ]
  },
  {
   "cell_type": "markdown",
   "metadata": {},
   "source": [
    "## Problem 4\n",
    "Edit the end of the following function to return a weighted sparse matrix A."
   ]
  },
  {
   "cell_type": "code",
   "execution_count": 143,
   "metadata": {},
   "outputs": [],
   "source": [
    "def weighted_document_converter():\n",
    "    \"\"\"\n",
    "    Converts speech documents into an n by m array where m is the number \n",
    "    of vocabulary words and n is the number of documents. It gives weights\n",
    "    to the most important words in the vocabulary.\n",
    "    \n",
    "    Returns:\n",
    "        A ((n x m) sparse matrix): Each row represents a document\n",
    "        paths (list): list where each element is a speech path \n",
    "            eg: path[0] is './Addresses/1990-Bush.txt'\n",
    "    \"\"\"\n",
    "    # Get X and paths from unweighted document converter\n",
    "    X, paths = document_converter()\n",
    "    m, n = X.shape\n",
    "\n",
    "    # Define p\n",
    "    p = X / np.sum(X, axis=0)\n",
    "    \n",
    "    # Define global weight of the ith column\n",
    "    g = 1 + np.sum(p*np.log(p+1), axis=0)/np.log(m)\n",
    "    \n",
    "    # Weight X by the column weights\n",
    "    A = g * np.log1p(X)\n",
    "    \n",
    "    return A, paths"
   ]
  },
  {
   "cell_type": "markdown",
   "metadata": {},
   "source": [
    "## Problem 5\n",
    "Use the weighted_document_converter() function above and scikit-learn's PCA to find speeches most and least similar to a given speech."
   ]
  },
  {
   "cell_type": "code",
   "execution_count": 145,
   "metadata": {},
   "outputs": [],
   "source": [
    "def prob5(speech, l=7):\n",
    "    \"\"\"\n",
    "    Uses LSI, applied to the globally weighted word count matrix A, with \n",
    "    the first 7 principal components to find the most similar and least \n",
    "    similar speeches.\n",
    "\n",
    "    Parameters:\n",
    "        speech (str): Path to speech eg: \"./Addresses/1984-Reagan.txt\"\n",
    "        l (int): Number of principal components\n",
    "\n",
    "    Returns:\n",
    "        tuple of str: (Most similar speech, least similar speech)\n",
    "    \"\"\"\n",
    "    # Get the word count matrix X and the list of speech paths\n",
    "    X, paths = weighted_document_converter()\n",
    "\n",
    "    # Compute truncated SVD\n",
    "    U, E, Vh = spla.svds(X, l, random_state=74)\n",
    "    Xhat = X @ Vh.T[:,:l]\n",
    "\n",
    "    # Get the index of the speech\n",
    "    speech_index = paths.index(speech)\n",
    "\n",
    "    # Get the index of the most similar and least similar speeches\n",
    "    index_min, index_max = similar(speech_index, Xhat)\n",
    "\n",
    "    # Return the most similar and least similar speeches\n",
    "    return paths[index_max][12:-4], paths[index_min][12:-4]"
   ]
  },
  {
   "cell_type": "code",
   "execution_count": 146,
   "metadata": {},
   "outputs": [
    {
     "name": "stdout",
     "output_type": "stream",
     "text": [
      "('1992-Bush', '1946-Truman')\n",
      "('1985-Reagan', '1946-Truman')\n"
     ]
    }
   ],
   "source": [
    "# Run this box after you have completed prob5()\n",
    "speech = \"./Addresses/1993-Clinton.txt\"\n",
    "print(prob5(speech))\n",
    "\n",
    "speech = './Addresses/1984-Reagan.txt'\n",
    "print(prob5(speech))"
   ]
  },
  {
   "cell_type": "markdown",
   "metadata": {},
   "source": [
    "## Problem 6\n",
    "- Split the breast cancer dataset into training and testing sets using random_state=2\n",
    "- Fit KNeighborsClassifier and RandomForestClassifier to the training data\n",
    "- Predict labels for the testing set\n",
    "- Print a classification_report for each classifier\n",
    "- Write a few sentences explaining which classifier would be better to use in this situation and why"
   ]
  },
  {
   "cell_type": "code",
   "execution_count": 122,
   "metadata": {},
   "outputs": [
    {
     "name": "stdout",
     "output_type": "stream",
     "text": [
      "Random Forest Classifier\n",
      "              precision    recall  f1-score   support\n",
      "\n",
      "           0       0.93      0.93      0.93        56\n",
      "           1       0.95      0.95      0.95        87\n",
      "\n",
      "    accuracy                           0.94       143\n",
      "   macro avg       0.94      0.94      0.94       143\n",
      "weighted avg       0.94      0.94      0.94       143\n",
      " \n",
      "\n",
      "\n",
      "KNN Classifier\n",
      "              precision    recall  f1-score   support\n",
      "\n",
      "           0       0.91      0.89      0.90        56\n",
      "           1       0.93      0.94      0.94        87\n",
      "\n",
      "    accuracy                           0.92       143\n",
      "   macro avg       0.92      0.92      0.92       143\n",
      "weighted avg       0.92      0.92      0.92       143\n",
      "\n"
     ]
    }
   ],
   "source": [
    "# Import data\n",
    "cancer = datasets.load_breast_cancer()\n",
    "X = cancer.data\n",
    "y = cancer.target\n",
    "\n",
    "# Split data\n",
    "X_train, X_test, y_train, y_test = train_test_split(X, y, random_state=2)\n",
    "\n",
    "# Run Random Forest Classifier\n",
    "rf = RandomForestClassifier()\n",
    "rf.fit(X_train, y_train)\n",
    "y_pred_rf = rf.predict(X_test)\n",
    "\n",
    "# Run KNN Classifier\n",
    "knn = KNeighborsClassifier()\n",
    "knn.fit(X_train, y_train)\n",
    "y_pred_knn = knn.predict(X_test)\n",
    "\n",
    "print('Random Forest Classifier')\n",
    "print(classification_report(y_test, y_pred_rf), '\\n\\n')\n",
    "print('KNN Classifier')\n",
    "print(classification_report(y_test, y_pred_knn))"
   ]
  },
  {
   "cell_type": "markdown",
   "metadata": {},
   "source": [
    "The random forest classifier is better in all score categories, so we should use that one."
   ]
  },
  {
   "cell_type": "markdown",
   "metadata": {},
   "source": [
    "## Problem 7\n",
    "- Use the breast cancer dataset split from Problem 6\n",
    "- Run a GridSearch with a RandomForestClassifier, modifying at least three parameters.\n",
    "- Use scoring=\"f1\"\n",
    "- Print out best_params_ and best_score_\n",
    "- Print a confusion matrix for the test data"
   ]
  },
  {
   "cell_type": "code",
   "execution_count": 129,
   "metadata": {},
   "outputs": [
    {
     "name": "stdout",
     "output_type": "stream",
     "text": [
      "Best Parameters:\n",
      "{'max_depth': 4, 'max_features': 'sqrt', 'min_samples_leaf': 2}\n",
      "\n",
      "Best Score:\n",
      "0.9724418496895562\n",
      "\n",
      "Confusion Matrix\n",
      "[[52  4]\n",
      " [ 4 83]]\n"
     ]
    }
   ],
   "source": [
    "# Import data\n",
    "cancer = datasets.load_breast_cancer()\n",
    "X = cancer.data\n",
    "y = cancer.target\n",
    "\n",
    "# Split data\n",
    "X_train, X_test, y_train, y_test = train_test_split(X, y, random_state=2)\n",
    "\n",
    "# Define model\n",
    "rf = RandomForestClassifier()\n",
    "\n",
    "# Specify values for certain hyperparameters\n",
    "param_grid = {\"max_depth\": [2, 3, 4, 5],\n",
    "              \"min_samples_leaf\": [2,3,4,5],\n",
    "              'max_features': ['sqrt', 'log2']}\n",
    "\n",
    "rf_gs = GridSearchCV(rf, param_grid, scoring=\"f1\", n_jobs=-1)\n",
    "\n",
    "# Run the actual search. This may take some time.\n",
    "rf_gs.fit(X_train, y_train)\n",
    "\n",
    "# After fitting, you can access data about the results.\n",
    "print('Best Parameters:',rf_gs.best_params_, '\\nBest Score:', rf_gs.best_score_, sep='\\n')\n",
    "\n",
    "# Predict\n",
    "y_pred = rf_gs.predict(X_test)\n",
    "\n",
    "# Print out confusion matrix\n",
    "print('\\nConfusion Matrix')\n",
    "print(confusion_matrix(y_test, y_pred))"
   ]
  },
  {
   "cell_type": "markdown",
   "metadata": {},
   "source": [
    "## Problem 8\n",
    "- Create a pipeline with a StandardScaler, PCA, and a KNeighborsClassifier\n",
    "- Do a grid search, modifying at least 6 parameters\n",
    "- Print your best parameters and best score (f1)\n",
    "- Get a score of at least 0.96"
   ]
  },
  {
   "cell_type": "code",
   "execution_count": 133,
   "metadata": {},
   "outputs": [
    {
     "name": "stdout",
     "output_type": "stream",
     "text": [
      "Best Parameters:\n",
      "{'knn__algorithm': 'auto',\n",
      " 'knn__n_neighbors': 3,\n",
      " 'knn__weights': 'uniform',\n",
      " 'pca__n_components': 10,\n",
      " 'pca__whiten': False,\n",
      " 'scale__with_mean': True,\n",
      " 'scale__with_std': True}\n",
      "\n",
      "Best Score:\n",
      "0.9718467852257182\n"
     ]
    }
   ],
   "source": [
    "# Create pipeline\n",
    "pipe = Pipeline([(\"scale\", StandardScaler()),\n",
    "                 (\"pca\",PCA()),\n",
    "                 (\"knn\",KNeighborsClassifier())])\n",
    "\n",
    "# Define parameters\n",
    "pipe_param_grid = {\"scale__with_mean\": [True, False],\n",
    "                   \"scale__with_std\": [True, False],\n",
    "                   \"pca__n_components\":[5,10,None,'mle'],\n",
    "                   \"pca__whiten\":[True,False], \n",
    "                   \"knn__n_neighbors\": [2,3,4,5,6],\n",
    "                   'knn__algorithm': ['auto', 'ball_tree', 'kd_tree', 'brute'],\n",
    "                   \"knn__weights\": [\"uniform\", \"distance\"]}\n",
    "\n",
    "# Run grid search\n",
    "pipe_gs = GridSearchCV(pipe, pipe_param_grid, n_jobs=-1).fit(X_train, y_train)\n",
    "\n",
    "# Print best parameters\n",
    "print('Best Parameters:')\n",
    "pprint(pipe_gs.best_params_)\n",
    "print('\\nBest Score:', pipe_gs.best_score_, sep='\\n')"
   ]
  }
 ],
 "metadata": {
  "kernelspec": {
   "display_name": "Python 3 (ipykernel)",
   "language": "python",
   "name": "python3"
  },
  "language_info": {
   "codemirror_mode": {
    "name": "ipython",
    "version": 3
   },
   "file_extension": ".py",
   "mimetype": "text/x-python",
   "name": "python",
   "nbconvert_exporter": "python",
   "pygments_lexer": "ipython3",
   "version": "3.10.12"
  }
 },
 "nbformat": 4,
 "nbformat_minor": 4
}
